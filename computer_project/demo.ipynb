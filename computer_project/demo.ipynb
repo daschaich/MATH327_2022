{
  "nbformat": 4,
  "nbformat_minor": 0,
  "metadata": {
    "colab": {
      "name": "demo.ipynb",
      "provenance": [],
      "collapsed_sections": []
    },
    "kernelspec": {
      "name": "python3",
      "display_name": "Python 3"
    }
  },
  "cells": [
    {
      "cell_type": "markdown",
      "metadata": {
        "id": "AxT4sT4xUWi6"
      },
      "source": [
        "# Introductory remarks\n",
        "This [Google Colaboratory](https://colab.research.google.com) notebook is designed to demonstrate all the Python programming tools you'll need for the MATH327 computer project.\n",
        "\n",
        "If you're completely new to [Python](https://www.python.org), or programming in general, the [official \"getting started\" information](https://wiki.python.org/moin/BeginnersGuide) is great.  It provides tutorials both for those who have never programmed before as well as for those with previous programming experience.  That said, all necessary information should appear here, so checking out those additional tutorials is entirely optional.  We are using Python in part because it is very easy to work with compared to some other programming frameworks.  It is also free and very widely used, making it a very valuable skill to encounter in the course of your studies.  We are also going to keep things simple---only a few dozen lines of code will be required for the project, where a \"line of code\" is essentially an instruction telling the computer what we want it to do.\n",
        "\n",
        "The notebook model for running and sharing code is very popular, as it allows us to mix formatted explanations (like these) with program execution and graphics.  Colaboratory notebooks specifically can run code on a machine sitting in the [Google Cloud](https://cloud.google.com),  all for free.  If you want to save and edit a copy of this notebook, you can either set that up in a Google account, or grab the notebook from the [GitHub repository](https://github.com/daschaich/MATH327_2022/tree/master/computer_project) for the module and run it in a notebook software system of your choice, such as [Project Jupyter](https://jupyter.org)."
      ]
    },
    {
      "cell_type": "markdown",
      "metadata": {
        "id": "tvhnqc2dEy4U"
      },
      "source": [
        "# The demo itself\n",
        "## Initialization\n",
        "Let's start by loading some convenient packages.  We will need the built-in `math` package to have a square-root (`math.sqrt`) function.  We will need the built-in `random` package to work with the pseudo-random numbers discussed in the assignment.\n",
        "\n",
        "We will also load two add-on packages: [NumPy](https://numpy.org) to simplify numerical computing in Python, and [Matplotlib](https://matplotlib.org) to simplify plotting.\n",
        "\n",
        "While we're getting everything set up, let's check the versions of Python, NumPy and Matplotlib.  This code last ran successfully with Python version 3.7.12, NumPy version 1.19.5 and Matplotlib version 3.2.2.  Because it is a very simple code, using different versions should cause no problems.  Just make sure you're using Python 3!  (Python 2 is still widespread, but no longer officially supported.)"
      ]
    },
    {
      "cell_type": "code",
      "metadata": {
        "colab": {
          "base_uri": "https://localhost:8080/"
        },
        "id": "oVDUpI5aFB07",
        "outputId": "7787660c-fc0f-4c26-9d97-15cd3362b3d9"
      },
      "source": [
        "import math\n",
        "import random\n",
        "import numpy as np\n",
        "import matplotlib.pyplot as plt\n",
        "\n",
        "from platform import python_version\n",
        "print(python_version())\n",
        "print(np.__version__)\n",
        "import matplotlib\n",
        "print(matplotlib.__version__)"
      ],
      "execution_count": null,
      "outputs": [
        {
          "output_type": "stream",
          "name": "stdout",
          "text": [
            "3.7.12\n",
            "1.19.5\n",
            "3.2.2\n"
          ]
        }
      ]
    },
    {
      "cell_type": "markdown",
      "metadata": {
        "id": "uNwyaAKpFEk4"
      },
      "source": [
        "## Inverse transform sampling\n",
        "The first exercise we will do is to generate 100,000 pseudo-random numbers distributed according to $p(x) = \\frac{x}{2}$ (for $0 \\leq x < 2$ so that $\\int p(x) dx = 1$).\n",
        "\n",
        "First we give our pseudo-random number generator an explicit \"seed\" (in this case `42`) so that our work is easily reproducible.  Each call of the `random.random()` function then generates a pseudo-random number $u$ from a uniform distribution, $p(u) = 1$ (for $0 \\leq u < 1$ so that $\\int p(u) du = 1$ as well).  As discussed in the assignment, inverse transform sampling allows us to consider $x = F(u) = 2\\sqrt{u}$ with the desired $p(x)$.\n",
        "\n",
        "We then create an array, `dat`, that contains all 100,000 samples $x$, while also accumulating **running sums** that efficientlly provide the mean $\\mu = \\langle x\\rangle$ and standard deviation $\\sigma = \\sqrt{\\langle x^2\\rangle - \\langle x\\rangle^2}$.  We initialize the array to be empty (`[]`), and then append each sample to its end.  The notation `[-1]` picks out the last entry in the array---the one that we just appended.\n",
        "\n",
        "The \"[for loop](https://en.wikipedia.org/wiki/For_loop)\" used below is a key programming concept.  In Python such loops begin with a colon (`:`) and last so long as the following lines are indented.  (Unlike most other programming frameworks, in Python [whitespace matters](https://xkcd.com/353/).)  Every instruction in the loop is repeated `nSamples` times, once for each value of `i`$ = 0$, $1$, $\\cdots$, `nSamples`$ - 1$.  (In this particular loop the value of `i` is not relevant.)\n",
        "\n",
        "In this example it's easy to analytically compute $\\mu = \\frac{4}{3}$ and $\\sigma = \\frac{\\sqrt{2}}{3} \\approx 0.4714045$, which 100,000 samples allow us to numerically reproduce to much better than 1% precision."
      ]
    },
    {
      "cell_type": "code",
      "metadata": {
        "colab": {
          "base_uri": "https://localhost:8080/"
        },
        "id": "Zb01zl1dJcJK",
        "outputId": "1fb0417a-b464-47f8-e58a-8638abcf5444"
      },
      "source": [
        "random.seed(42)\n",
        "nSamples = 100000\n",
        "dat = []\n",
        "vev = 0.0\n",
        "vevSq = 0.0\n",
        "for i in range(0, nSamples):\n",
        "  dat.append(2.0 * math.sqrt(random.random()))\n",
        "  vev += dat[-1]\n",
        "  vevSq += dat[-1] * dat[-1]\n",
        "\n",
        "vev /= nSamples\n",
        "vevSq /= nSamples\n",
        "print(\"mu =\", vev)\n",
        "print(\"sigma =\", math.sqrt(vevSq - vev*vev))"
      ],
      "execution_count": null,
      "outputs": [
        {
          "output_type": "stream",
          "name": "stdout",
          "text": [
            "mu = 1.333352094142587\n",
            "sigma = 0.4719633052586884\n"
          ]
        }
      ]
    },
    {
      "cell_type": "markdown",
      "metadata": {
        "id": "YK-xhy7DU1C0"
      },
      "source": [
        "## Histogram\n",
        "If all we wanted were the mean and standard deviation, saving all 100,000 entries in the array `dat` would be extremely wasteful.  Here we saved them so that we can make a [histogram](https://en.wikipedia.org/wiki/Histogram) confirming that the samples Python gave us above follow the expected probability distribution $p(x) = \\frac{x}{2}$.\n",
        "\n",
        "The `plt.plot` function below produces this histogram, dividing the data in the array `dat` across the 51 bins we specify.  The `density` argument normalizes the plot so that the area of the histogram adds up to $1$.  If `density` were set to false, the histogram would show the total number of samples in each bin and we would need to rescale $p(x)$ by an appropriate constant factor in order to compare it to the data.\n",
        "\n",
        "Here the comparison is done by evaluating the function $y \\frac{x}{2}$ for 200 points evenly distributed between $0 \\leq x \\leq 2$.  This is the standard way to plot functions in Python.  The `plt.plot` function adds this function to the plot that already contains the histogram, which we can then `show` below or `save` to disk as a pdf file.  The `'r'` argument in this function tells Matplotlib to show $y$ as a red line.  We see very good agreement between the histogram of the samples and the desired $p(x) = \\frac{x}{2}$."
      ]
    },
    {
      "cell_type": "code",
      "metadata": {
        "colab": {
          "base_uri": "https://localhost:8080/",
          "height": 265
        },
        "id": "mtL32g-kU0Ks",
        "outputId": "aeae5da5-dcbd-4570-e0da-2c5c39141b34"
      },
      "source": [
        "nbins = 51\n",
        "plt.hist(dat, nbins, density=True)\n",
        "x = np.arange(0, 2, 0.01)\n",
        "y = 0.5 * x\n",
        "plt.plot(x, y, 'r')\n",
        "plt.show()\n",
        "#plt.savefig('hist.pdf')"
      ],
      "execution_count": null,
      "outputs": [
        {
          "output_type": "display_data",
          "data": {
            "image/png": "[encoded data removed]",
            "text/plain": [
              "<Figure size 432x288 with 1 Axes>"
            ]
          },
          "metadata": {
            "needs_background": "light"
          }
        }
      ]
    },
    {
      "cell_type": "markdown",
      "metadata": {
        "id": "LP_ZBhWOxARj"
      },
      "source": [
        "## Random walks\n",
        "Now we nest three `for` loops inside of each other, in order to analyze random walks with various numbers of steps.  The innermost loop over `step` carries out the walk, taking `Nstep` steps of random length $x$ drawn from the probability distribution $p(x)$ above, and adding these steps to the running sum `d` (for \"distance\").  In the middle loop over `i`, this `nStep` random walk is repeated 100,000 times, allowing its final length to be analyzed as a random variable, which we accumulate in the running sum `L`.  The outermost loop over `Nstep` simply repeats this entire procedure fo reach of the eight numbers of steps held by the array `N_list`.\n",
        "\n",
        "To confirm that the average walk length follows our expectation `L`$\\propto$`Nstep`, we can both print out and plot our results.\n",
        "\n",
        "(If we were pressed for time, we could re-use the first $N$ steps of each 80-step walk as an $N$-step walk.  This would produce **correlated** results, but we would only need to care about those correlations if we were carrying out careful uncertainty analyses, which are beyond the scope of this module.)"
      ]
    },
    {
      "cell_type": "code",
      "metadata": {
        "colab": {
          "base_uri": "https://localhost:8080/",
          "height": 433
        },
        "id": "Z-btvuwExMi0",
        "outputId": "1006d7a1-5cb1-4724-f2b5-7d8346c81dff"
      },
      "source": [
        "walk_lengths = [10, 20, 30, 40, 50, 60, 70, 80]\n",
        "L = []\n",
        "print(\"N  L\")\n",
        "for Nstep in walk_lengths:\n",
        "  L.append(0.0)\n",
        "  for i in range(0, nSamples):\n",
        "    d = 0.0\n",
        "    for step in range(0, Nstep):\n",
        "      d += 2.0 * math.sqrt(random.random())\n",
        "    L[-1] += d\n",
        "  L[-1] /= float(nSamples)\n",
        "  print(\"%d %.3f\" % (Nstep, L[-1]))\n",
        "\n",
        "plt.plot(walk_lengths, L, linestyle='None', marker=\".\")\n",
        "plt.show()"
      ],
      "execution_count": null,
      "outputs": [
        {
          "output_type": "stream",
          "name": "stdout",
          "text": [
            "N  L\n",
            "10 13.340\n",
            "20 26.660\n",
            "30 40.009\n",
            "40 53.343\n",
            "50 66.665\n",
            "60 79.995\n",
            "70 93.348\n",
            "80 106.673\n"
          ]
        },
        {
          "output_type": "display_data",
          "data": {
            "image/png": "[encoded data removed]",
            "text/plain": [
              "<Figure size 432x288 with 1 Axes>"
            ]
          },
          "metadata": {
            "needs_background": "light"
          }
        }
      ]
    },
    {
      "cell_type": "markdown",
      "metadata": {
        "id": "c1w_gwUm1RhE"
      },
      "source": [
        "## Polynomial fit\n",
        "Suppose we are confident that `L` is a linear function of `Nstep`, $L = aN + b$, and just want to determine the slope $a$ and intercept $b$.  We can do this by using NumPy's `np.polyfit` function to fit these data to a polynomial.  The order of the polynomial (here `1`) is the third argument of this function.  By printing the output of this function, we can confirm our expectation that the slope is simply the mean of the single-step process, $\\mu = \\frac{4}{3}$, while the intercept vanishes up to our current statistical precision.\n",
        "\n",
        "We can also plot the results of the fit along with the data points already shown above, to confirm that the fit provides a good description of these data."
      ]
    },
    {
      "cell_type": "code",
      "metadata": {
        "id": "O5D8mccsUSfz",
        "colab": {
          "base_uri": "https://localhost:8080/",
          "height": 302
        },
        "outputId": "0847df12-a65b-4982-9c76-a9abeadb0aec"
      },
      "source": [
        "output = np.polyfit(walk_lengths, L, 1)\n",
        "a=output[0]\n",
        "b=output[1]\n",
        "print(\"a =\", a)\n",
        "print(\"b =\", b)\n",
        "\n",
        "plt.plot(walk_lengths, L, linestyle='None', marker=\".\")\n",
        "x = np.arange(0, 80, 0.1)\n",
        "p = a * x + b\n",
        "plt.plot(x, p)\n",
        "plt.show()"
      ],
      "execution_count": null,
      "outputs": [
        {
          "output_type": "stream",
          "name": "stdout",
          "text": [
            "a = 1.3332930263864922\n",
            "b = 0.0015432626483964627\n"
          ]
        },
        {
          "output_type": "display_data",
          "data": {
            "image/png": "[encoded data removed]",
            "text/plain": [
              "<Figure size 432x288 with 1 Axes>"
            ]
          },
          "metadata": {
            "needs_background": "light"
          }
        }
      ]
    },
    {
      "cell_type": "markdown",
      "metadata": {
        "id": "r_JLA8U6400P"
      },
      "source": [
        "## Trick to simplify power-law fits\n",
        "What if we *aren't* sure that the relation between the walk length and the number of steps is linear?  We can be confident the intercept is negligible (we can't walk very far by taking $0$ steps!), so we can proceed by fitting the data to a **power law**, $L = cN^{\\alpha}$, to determine both the power $\\alpha$ and the constant of proportionality $c$.\n",
        "\n",
        "It is of course possible to do such power-law fits directly in Python, but there is also a famous trick that makes this task much simpler: We take the log of both sides of the power law, and get back to a linear relation, $\\log L = \\alpha \\log N + \\log c$.  Adapting the linear fit above then confirms that $\\alpha \\approx 1$ and $c \\approx \\mu$ to very good precision."
      ]
    },
    {
      "cell_type": "code",
      "metadata": {
        "colab": {
          "base_uri": "https://localhost:8080/",
          "height": 302
        },
        "id": "2QxrckVX1b_v",
        "outputId": "108a77e0-af14-435f-f91e-95fd21377d3c"
      },
      "source": [
        "logN = np.log(walk_lengths);\n",
        "logL = np.log(L);\n",
        "output = np.polyfit(logN, logL, 1)\n",
        "alpha = output[0]\n",
        "c = np.exp(output[1])\n",
        "print(\"alpha =\", alpha)\n",
        "print(\"c =\", c)\n",
        "\n",
        "plt.plot(walk_lengths, L, linestyle='None', marker=\".\")\n",
        "x = np.arange(0, 80, 0.1)\n",
        "p = c * x**alpha\n",
        "plt.plot(x, p)\n",
        "plt.show()"
      ],
      "execution_count": null,
      "outputs": [
        {
          "output_type": "stream",
          "name": "stdout",
          "text": [
            "alpha = 0.9999091551148838\n",
            "c = 1.333798230915231\n"
          ]
        },
        {
          "output_type": "display_data",
          "data": {
            "image/png": "[encoded data removed]",
            "text/plain": [
              "<Figure size 432x288 with 1 Axes>"
            ]
          },
          "metadata": {
            "needs_background": "light"
          }
        }
      ]
    },
    {
      "cell_type": "markdown",
      "metadata": {
        "id": "5liTVUhojhHB"
      },
      "source": [
        "# Postscript\n",
        "We expect the accuracy with which we reproduce the exact analytic results to improve with more data (larger `nSamples`).  Feel free to try running this notebook with larger (or smaller) `nSamples` to see whether this expectation is fulfilled."
      ]
    }
  ]
}